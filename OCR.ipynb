{
  "nbformat": 4,
  "nbformat_minor": 0,
  "metadata": {
    "colab": {
      "provenance": []
    },
    "kernelspec": {
      "name": "python3",
      "display_name": "Python 3"
    },
    "language_info": {
      "name": "python"
    }
  },
  "cells": [
    {
      "cell_type": "code",
      "execution_count": 1,
      "metadata": {
        "colab": {
          "base_uri": "https://localhost:8080/"
        },
        "id": "8Ha6Ij891Did",
        "outputId": "bc94efe3-620a-4ebd-9bdb-df32f691790c"
      },
      "outputs": [
        {
          "output_type": "stream",
          "name": "stdout",
          "text": [
            "\u001b[?25l     \u001b[90m━━━━━━━━━━━━━━━━━━━━━━━━━━━━━━━━━━━━━━━━\u001b[0m \u001b[32m0.0/709.4 kB\u001b[0m \u001b[31m?\u001b[0m eta \u001b[36m-:--:--\u001b[0m\r\u001b[2K     \u001b[91m━━━━━━━━━━━━━━━\u001b[0m\u001b[91m╸\u001b[0m\u001b[90m━━━━━━━━━━━━━━━━━━━━━━━━\u001b[0m \u001b[32m276.5/709.4 kB\u001b[0m \u001b[31m8.1 MB/s\u001b[0m eta \u001b[36m0:00:01\u001b[0m\r\u001b[2K     \u001b[91m━━━━━━━━━━━━━━━━━━━━━━━━━━━━━━━━━━━━━━━\u001b[0m\u001b[91m╸\u001b[0m \u001b[32m706.6/709.4 kB\u001b[0m \u001b[31m11.2 MB/s\u001b[0m eta \u001b[36m0:00:01\u001b[0m\r\u001b[2K     \u001b[90m━━━━━━━━━━━━━━━━━━━━━━━━━━━━━━━━━━━━━━━━\u001b[0m \u001b[32m709.4/709.4 kB\u001b[0m \u001b[31m9.6 MB/s\u001b[0m eta \u001b[36m0:00:00\u001b[0m\n",
            "\u001b[?25h"
          ]
        }
      ],
      "source": [
        "!pip install ultralytics --quiet"
      ]
    },
    {
      "cell_type": "code",
      "source": [
        "!pip install paddleocr --upgrade --quiet\n",
        "!pip install paddlepaddle --quiet"
      ],
      "metadata": {
        "colab": {
          "base_uri": "https://localhost:8080/"
        },
        "id": "lcYBnHkb1K7h",
        "outputId": "e6b5e183-e497-4d4e-fad8-c4653aebdb81"
      },
      "execution_count": 2,
      "outputs": [
        {
          "output_type": "stream",
          "name": "stdout",
          "text": [
            "\u001b[2K     \u001b[90m━━━━━━━━━━━━━━━━━━━━━━━━━━━━━━━━━━━━━━━━\u001b[0m \u001b[32m465.7/465.7 kB\u001b[0m \u001b[31m7.2 MB/s\u001b[0m eta \u001b[36m0:00:00\u001b[0m\n",
            "\u001b[2K     \u001b[90m━━━━━━━━━━━━━━━━━━━━━━━━━━━━━━━━━━━━━━━━\u001b[0m \u001b[32m908.3/908.3 kB\u001b[0m \u001b[31m12.5 MB/s\u001b[0m eta \u001b[36m0:00:00\u001b[0m\n",
            "\u001b[2K     \u001b[90m━━━━━━━━━━━━━━━━━━━━━━━━━━━━━━━━━━━━━━━━\u001b[0m \u001b[32m299.2/299.2 kB\u001b[0m \u001b[31m13.9 MB/s\u001b[0m eta \u001b[36m0:00:00\u001b[0m\n",
            "\u001b[2K     \u001b[90m━━━━━━━━━━━━━━━━━━━━━━━━━━━━━━━━━━━━━━━━\u001b[0m \u001b[32m6.3/6.3 MB\u001b[0m \u001b[31m28.4 MB/s\u001b[0m eta \u001b[36m0:00:00\u001b[0m\n",
            "\u001b[2K     \u001b[90m━━━━━━━━━━━━━━━━━━━━━━━━━━━━━━━━━━━━━━━━\u001b[0m \u001b[32m3.4/3.4 MB\u001b[0m \u001b[31m45.4 MB/s\u001b[0m eta \u001b[36m0:00:00\u001b[0m\n",
            "\u001b[2K     \u001b[90m━━━━━━━━━━━━━━━━━━━━━━━━━━━━━━━━━━━━━━━━\u001b[0m \u001b[32m60.9/60.9 MB\u001b[0m \u001b[31m5.9 MB/s\u001b[0m eta \u001b[36m0:00:00\u001b[0m\n",
            "\u001b[2K     \u001b[90m━━━━━━━━━━━━━━━━━━━━━━━━━━━━━━━━━━━━━━━━\u001b[0m \u001b[32m67.1/67.1 MB\u001b[0m \u001b[31m7.0 MB/s\u001b[0m eta \u001b[36m0:00:00\u001b[0m\n",
            "\u001b[2K     \u001b[90m━━━━━━━━━━━━━━━━━━━━━━━━━━━━━━━━━━━━━━━━\u001b[0m \u001b[32m8.9/8.9 MB\u001b[0m \u001b[31m49.8 MB/s\u001b[0m eta \u001b[36m0:00:00\u001b[0m\n",
            "\u001b[2K     \u001b[90m━━━━━━━━━━━━━━━━━━━━━━━━━━━━━━━━━━━━━━━━\u001b[0m \u001b[32m4.5/4.5 MB\u001b[0m \u001b[31m43.9 MB/s\u001b[0m eta \u001b[36m0:00:00\u001b[0m\n",
            "\u001b[2K     \u001b[90m━━━━━━━━━━━━━━━━━━━━━━━━━━━━━━━━━━━━━━━━\u001b[0m \u001b[32m239.6/239.6 kB\u001b[0m \u001b[31m28.7 MB/s\u001b[0m eta \u001b[36m0:00:00\u001b[0m\n",
            "\u001b[2K     \u001b[90m━━━━━━━━━━━━━━━━━━━━━━━━━━━━━━━━━━━━━━━━\u001b[0m \u001b[32m88.3/88.3 kB\u001b[0m \u001b[31m10.9 MB/s\u001b[0m eta \u001b[36m0:00:00\u001b[0m\n",
            "\u001b[?25h  Preparing metadata (setup.py) ... \u001b[?25l\u001b[?25hdone\n",
            "\u001b[2K     \u001b[90m━━━━━━━━━━━━━━━━━━━━━━━━━━━━━━━━━━━━━━━━\u001b[0m \u001b[32m132.0/132.0 kB\u001b[0m \u001b[31m15.3 MB/s\u001b[0m eta \u001b[36m0:00:00\u001b[0m\n",
            "\u001b[2K     \u001b[90m━━━━━━━━━━━━━━━━━━━━━━━━━━━━━━━━━━━━━━━━\u001b[0m \u001b[32m398.5/398.5 kB\u001b[0m \u001b[31m31.0 MB/s\u001b[0m eta \u001b[36m0:00:00\u001b[0m\n",
            "\u001b[2K     \u001b[90m━━━━━━━━━━━━━━━━━━━━━━━━━━━━━━━━━━━━━━━━\u001b[0m \u001b[32m300.8/300.8 kB\u001b[0m \u001b[31m19.1 MB/s\u001b[0m eta \u001b[36m0:00:00\u001b[0m\n",
            "\u001b[2K     \u001b[90m━━━━━━━━━━━━━━━━━━━━━━━━━━━━━━━━━━━━━━━━\u001b[0m \u001b[32m3.6/3.6 MB\u001b[0m \u001b[31m50.4 MB/s\u001b[0m eta \u001b[36m0:00:00\u001b[0m\n",
            "\u001b[2K     \u001b[90m━━━━━━━━━━━━━━━━━━━━━━━━━━━━━━━━━━━━━━━━\u001b[0m \u001b[32m2.1/2.1 MB\u001b[0m \u001b[31m63.1 MB/s\u001b[0m eta \u001b[36m0:00:00\u001b[0m\n",
            "\u001b[?25h  Building wheel for fire (setup.py) ... \u001b[?25l\u001b[?25hdone\n",
            "\u001b[2K     \u001b[90m━━━━━━━━━━━━━━━━━━━━━━━━━━━━━━━━━━━━━━━━\u001b[0m \u001b[32m125.7/125.7 MB\u001b[0m \u001b[31m8.5 MB/s\u001b[0m eta \u001b[36m0:00:00\u001b[0m\n",
            "\u001b[2K     \u001b[90m━━━━━━━━━━━━━━━━━━━━━━━━━━━━━━━━━━━━━━━━\u001b[0m \u001b[32m75.9/75.9 kB\u001b[0m \u001b[31m9.6 MB/s\u001b[0m eta \u001b[36m0:00:00\u001b[0m\n",
            "\u001b[2K     \u001b[90m━━━━━━━━━━━━━━━━━━━━━━━━━━━━━━━━━━━━━━━━\u001b[0m \u001b[32m76.9/76.9 kB\u001b[0m \u001b[31m9.1 MB/s\u001b[0m eta \u001b[36m0:00:00\u001b[0m\n",
            "\u001b[2K     \u001b[90m━━━━━━━━━━━━━━━━━━━━━━━━━━━━━━━━━━━━━━━━\u001b[0m \u001b[32m58.3/58.3 kB\u001b[0m \u001b[31m7.3 MB/s\u001b[0m eta \u001b[36m0:00:00\u001b[0m\n",
            "\u001b[?25h"
          ]
        }
      ]
    },
    {
      "cell_type": "code",
      "source": [
        "!apt-get install libnss3 libnss3-dev --quiet\n",
        "!apt-get install libcairo2-dev libjpeg-dev libgif-dev --quiet\n",
        "!apt-get install cmake libblkid-dev e2fslibs-dev libboost-all-dev libaudit-dev --quiet"
      ],
      "metadata": {
        "colab": {
          "base_uri": "https://localhost:8080/"
        },
        "id": "uhPs3NNf2P0z",
        "outputId": "62df01ec-3383-4a0e-9f59-a9b5d7d777b8"
      },
      "execution_count": 3,
      "outputs": [
        {
          "output_type": "stream",
          "name": "stdout",
          "text": [
            "Reading package lists...\n",
            "Building dependency tree...\n",
            "Reading state information...\n",
            "libnss3 is already the newest version (2:3.68.2-0ubuntu1.2).\n",
            "libnss3 set to manually installed.\n",
            "The following NEW packages will be installed:\n",
            "  libnspr4-dev libnss3-dev\n",
            "0 upgraded, 2 newly installed, 0 to remove and 31 not upgraded.\n",
            "Need to get 460 kB of archives.\n",
            "After this operation, 2,668 kB of additional disk space will be used.\n",
            "Get:1 http://archive.ubuntu.com/ubuntu jammy/main amd64 libnspr4-dev amd64 2:4.32-3build1 [218 kB]\n",
            "Get:2 http://archive.ubuntu.com/ubuntu jammy-updates/main amd64 libnss3-dev amd64 2:3.68.2-0ubuntu1.2 [242 kB]\n",
            "Fetched 460 kB in 1s (355 kB/s)\n",
            "Selecting previously unselected package libnspr4-dev.\n",
            "(Reading database ... 121730 files and directories currently installed.)\n",
            "Preparing to unpack .../libnspr4-dev_2%3a4.32-3build1_amd64.deb ...\n",
            "Unpacking libnspr4-dev (2:4.32-3build1) ...\n",
            "Selecting previously unselected package libnss3-dev:amd64.\n",
            "Preparing to unpack .../libnss3-dev_2%3a3.68.2-0ubuntu1.2_amd64.deb ...\n",
            "Unpacking libnss3-dev:amd64 (2:3.68.2-0ubuntu1.2) ...\n",
            "Setting up libnspr4-dev (2:4.32-3build1) ...\n",
            "Setting up libnss3-dev:amd64 (2:3.68.2-0ubuntu1.2) ...\n",
            "Reading package lists...\n",
            "Building dependency tree...\n",
            "Reading state information...\n",
            "libgif-dev is already the newest version (5.1.9-2build2).\n",
            "libgif-dev set to manually installed.\n",
            "libjpeg-dev is already the newest version (8c-2ubuntu10).\n",
            "libjpeg-dev set to manually installed.\n",
            "The following additional packages will be installed:\n",
            "  libblkid-dev libcairo-script-interpreter2 libffi-dev libglib2.0-dev libglib2.0-dev-bin libice-dev\n",
            "  liblzo2-2 libmount-dev libpixman-1-dev libselinux1-dev libsepol-dev libsm-dev libxcb-render0-dev\n",
            "  libxcb-shm0-dev\n",
            "Suggested packages:\n",
            "  libcairo2-doc libgirepository1.0-dev libglib2.0-doc libgdk-pixbuf2.0-bin | libgdk-pixbuf2.0-dev\n",
            "  libxml2-utils libice-doc libsm-doc\n",
            "The following NEW packages will be installed:\n",
            "  libblkid-dev libcairo-script-interpreter2 libcairo2-dev libffi-dev libglib2.0-dev\n",
            "  libglib2.0-dev-bin libice-dev liblzo2-2 libmount-dev libpixman-1-dev libselinux1-dev libsepol-dev\n",
            "  libsm-dev libxcb-render0-dev libxcb-shm0-dev\n",
            "0 upgraded, 15 newly installed, 0 to remove and 31 not upgraded.\n",
            "Need to get 3,839 kB of archives.\n",
            "After this operation, 19.8 MB of additional disk space will be used.\n",
            "Get:1 http://archive.ubuntu.com/ubuntu jammy/main amd64 liblzo2-2 amd64 2.10-2build3 [53.7 kB]\n",
            "Get:2 http://archive.ubuntu.com/ubuntu jammy/main amd64 libcairo-script-interpreter2 amd64 1.16.0-5ubuntu2 [62.0 kB]\n",
            "Get:3 http://archive.ubuntu.com/ubuntu jammy/main amd64 libice-dev amd64 2:1.0.10-1build2 [51.4 kB]\n",
            "Get:4 http://archive.ubuntu.com/ubuntu jammy/main amd64 libsm-dev amd64 2:1.2.3-1build2 [18.1 kB]\n",
            "Get:5 http://archive.ubuntu.com/ubuntu jammy-updates/main amd64 libpixman-1-dev amd64 0.40.0-1ubuntu0.22.04.1 [280 kB]\n",
            "Get:6 http://archive.ubuntu.com/ubuntu jammy/main amd64 libxcb-render0-dev amd64 1.14-3ubuntu3 [19.6 kB]\n",
            "Get:7 http://archive.ubuntu.com/ubuntu jammy/main amd64 libxcb-shm0-dev amd64 1.14-3ubuntu3 [6,848 B]\n",
            "Get:8 http://archive.ubuntu.com/ubuntu jammy/main amd64 libffi-dev amd64 3.4.2-4 [63.7 kB]\n",
            "Get:9 http://archive.ubuntu.com/ubuntu jammy-updates/main amd64 libglib2.0-dev-bin amd64 2.72.4-0ubuntu2.2 [117 kB]\n",
            "Get:10 http://archive.ubuntu.com/ubuntu jammy/main amd64 libblkid-dev amd64 2.37.2-4ubuntu3 [185 kB]\n",
            "Get:11 http://archive.ubuntu.com/ubuntu jammy/main amd64 libsepol-dev amd64 3.3-1build1 [378 kB]\n",
            "Get:12 http://archive.ubuntu.com/ubuntu jammy/main amd64 libselinux1-dev amd64 3.3-1build2 [158 kB]\n",
            "Get:13 http://archive.ubuntu.com/ubuntu jammy/main amd64 libmount-dev amd64 2.37.2-4ubuntu3 [14.5 kB]\n",
            "Get:14 http://archive.ubuntu.com/ubuntu jammy-updates/main amd64 libglib2.0-dev amd64 2.72.4-0ubuntu2.2 [1,739 kB]\n",
            "Get:15 http://archive.ubuntu.com/ubuntu jammy/main amd64 libcairo2-dev amd64 1.16.0-5ubuntu2 [692 kB]\n",
            "Fetched 3,839 kB in 3s (1,328 kB/s)\n",
            "Selecting previously unselected package liblzo2-2:amd64.\n",
            "(Reading database ... 121929 files and directories currently installed.)\n",
            "Preparing to unpack .../00-liblzo2-2_2.10-2build3_amd64.deb ...\n",
            "Unpacking liblzo2-2:amd64 (2.10-2build3) ...\n",
            "Selecting previously unselected package libcairo-script-interpreter2:amd64.\n",
            "Preparing to unpack .../01-libcairo-script-interpreter2_1.16.0-5ubuntu2_amd64.deb ...\n",
            "Unpacking libcairo-script-interpreter2:amd64 (1.16.0-5ubuntu2) ...\n",
            "Selecting previously unselected package libice-dev:amd64.\n",
            "Preparing to unpack .../02-libice-dev_2%3a1.0.10-1build2_amd64.deb ...\n",
            "Unpacking libice-dev:amd64 (2:1.0.10-1build2) ...\n",
            "Selecting previously unselected package libsm-dev:amd64.\n",
            "Preparing to unpack .../03-libsm-dev_2%3a1.2.3-1build2_amd64.deb ...\n",
            "Unpacking libsm-dev:amd64 (2:1.2.3-1build2) ...\n",
            "Selecting previously unselected package libpixman-1-dev:amd64.\n",
            "Preparing to unpack .../04-libpixman-1-dev_0.40.0-1ubuntu0.22.04.1_amd64.deb ...\n",
            "Unpacking libpixman-1-dev:amd64 (0.40.0-1ubuntu0.22.04.1) ...\n",
            "Selecting previously unselected package libxcb-render0-dev:amd64.\n",
            "Preparing to unpack .../05-libxcb-render0-dev_1.14-3ubuntu3_amd64.deb ...\n",
            "Unpacking libxcb-render0-dev:amd64 (1.14-3ubuntu3) ...\n",
            "Selecting previously unselected package libxcb-shm0-dev:amd64.\n",
            "Preparing to unpack .../06-libxcb-shm0-dev_1.14-3ubuntu3_amd64.deb ...\n",
            "Unpacking libxcb-shm0-dev:amd64 (1.14-3ubuntu3) ...\n",
            "Selecting previously unselected package libffi-dev:amd64.\n",
            "Preparing to unpack .../07-libffi-dev_3.4.2-4_amd64.deb ...\n",
            "Unpacking libffi-dev:amd64 (3.4.2-4) ...\n",
            "Selecting previously unselected package libglib2.0-dev-bin.\n",
            "Preparing to unpack .../08-libglib2.0-dev-bin_2.72.4-0ubuntu2.2_amd64.deb ...\n",
            "Unpacking libglib2.0-dev-bin (2.72.4-0ubuntu2.2) ...\n",
            "Selecting previously unselected package libblkid-dev:amd64.\n",
            "Preparing to unpack .../09-libblkid-dev_2.37.2-4ubuntu3_amd64.deb ...\n",
            "Unpacking libblkid-dev:amd64 (2.37.2-4ubuntu3) ...\n",
            "Selecting previously unselected package libsepol-dev:amd64.\n",
            "Preparing to unpack .../10-libsepol-dev_3.3-1build1_amd64.deb ...\n",
            "Unpacking libsepol-dev:amd64 (3.3-1build1) ...\n",
            "Selecting previously unselected package libselinux1-dev:amd64.\n",
            "Preparing to unpack .../11-libselinux1-dev_3.3-1build2_amd64.deb ...\n",
            "Unpacking libselinux1-dev:amd64 (3.3-1build2) ...\n",
            "Selecting previously unselected package libmount-dev:amd64.\n",
            "Preparing to unpack .../12-libmount-dev_2.37.2-4ubuntu3_amd64.deb ...\n",
            "Unpacking libmount-dev:amd64 (2.37.2-4ubuntu3) ...\n",
            "Selecting previously unselected package libglib2.0-dev:amd64.\n",
            "Preparing to unpack .../13-libglib2.0-dev_2.72.4-0ubuntu2.2_amd64.deb ...\n",
            "Unpacking libglib2.0-dev:amd64 (2.72.4-0ubuntu2.2) ...\n",
            "Selecting previously unselected package libcairo2-dev:amd64.\n",
            "Preparing to unpack .../14-libcairo2-dev_1.16.0-5ubuntu2_amd64.deb ...\n",
            "Unpacking libcairo2-dev:amd64 (1.16.0-5ubuntu2) ...\n",
            "Setting up libglib2.0-dev-bin (2.72.4-0ubuntu2.2) ...\n",
            "Setting up libblkid-dev:amd64 (2.37.2-4ubuntu3) ...\n",
            "Setting up libpixman-1-dev:amd64 (0.40.0-1ubuntu0.22.04.1) ...\n",
            "Setting up libice-dev:amd64 (2:1.0.10-1build2) ...\n",
            "Setting up libsm-dev:amd64 (2:1.2.3-1build2) ...\n",
            "Setting up liblzo2-2:amd64 (2.10-2build3) ...\n",
            "Setting up libffi-dev:amd64 (3.4.2-4) ...\n",
            "Setting up libxcb-shm0-dev:amd64 (1.14-3ubuntu3) ...\n",
            "Setting up libsepol-dev:amd64 (3.3-1build1) ...\n",
            "Setting up libxcb-render0-dev:amd64 (1.14-3ubuntu3) ...\n",
            "Setting up libcairo-script-interpreter2:amd64 (1.16.0-5ubuntu2) ...\n",
            "Setting up libselinux1-dev:amd64 (3.3-1build2) ...\n",
            "Setting up libmount-dev:amd64 (2.37.2-4ubuntu3) ...\n",
            "Setting up libglib2.0-dev:amd64 (2.72.4-0ubuntu2.2) ...\n",
            "Processing triggers for libglib2.0-0:amd64 (2.72.4-0ubuntu2.2) ...\n",
            "Processing triggers for libc-bin (2.35-0ubuntu3.4) ...\n",
            "/sbin/ldconfig.real: /usr/local/lib/libtbb.so.12 is not a symbolic link\n",
            "\n",
            "/sbin/ldconfig.real: /usr/local/lib/libtbbbind_2_5.so.3 is not a symbolic link\n",
            "\n",
            "/sbin/ldconfig.real: /usr/local/lib/libtbbmalloc.so.2 is not a symbolic link\n",
            "\n",
            "/sbin/ldconfig.real: /usr/local/lib/libtbbbind_2_0.so.3 is not a symbolic link\n",
            "\n",
            "/sbin/ldconfig.real: /usr/local/lib/libtbbmalloc_proxy.so.2 is not a symbolic link\n",
            "\n",
            "/sbin/ldconfig.real: /usr/local/lib/libtbbbind.so.3 is not a symbolic link\n",
            "\n",
            "Processing triggers for man-db (2.10.2-1) ...\n",
            "Setting up libcairo2-dev:amd64 (1.16.0-5ubuntu2) ...\n",
            "Reading package lists...\n",
            "Building dependency tree...\n",
            "Reading state information...\n",
            "libblkid-dev is already the newest version (2.37.2-4ubuntu3).\n",
            "libblkid-dev set to manually installed.\n",
            "libboost-all-dev is already the newest version (1.74.0.3ubuntu7).\n",
            "cmake is already the newest version (3.22.1-1ubuntu1.22.04.1).\n",
            "The following additional packages will be installed:\n",
            "  libcap-ng-dev\n",
            "Suggested packages:\n",
            "  doc-base\n",
            "The following NEW packages will be installed:\n",
            "  libaudit-dev libcap-ng-dev libext2fs-dev\n",
            "0 upgraded, 3 newly installed, 0 to remove and 31 not upgraded.\n",
            "Need to get 396 kB of archives.\n",
            "After this operation, 1,558 kB of additional disk space will be used.\n",
            "Get:1 http://archive.ubuntu.com/ubuntu jammy/main amd64 libcap-ng-dev amd64 0.7.9-2.2build3 [22.9 kB]\n",
            "Get:2 http://archive.ubuntu.com/ubuntu jammy-updates/main amd64 libext2fs-dev amd64 1.46.5-2ubuntu1.1 [295 kB]\n",
            "Get:3 http://archive.ubuntu.com/ubuntu jammy/main amd64 libaudit-dev amd64 1:3.0.7-1build1 [78.6 kB]\n",
            "Fetched 396 kB in 1s (353 kB/s)\n",
            "Selecting previously unselected package libcap-ng-dev.\n",
            "(Reading database ... 122702 files and directories currently installed.)\n",
            "Preparing to unpack .../libcap-ng-dev_0.7.9-2.2build3_amd64.deb ...\n",
            "Unpacking libcap-ng-dev (0.7.9-2.2build3) ...\n",
            "Selecting previously unselected package libext2fs-dev.\n",
            "Preparing to unpack .../libext2fs-dev_1.46.5-2ubuntu1.1_amd64.deb ...\n",
            "Unpacking libext2fs-dev (1.46.5-2ubuntu1.1) ...\n",
            "Selecting previously unselected package libaudit-dev:amd64.\n",
            "Preparing to unpack .../libaudit-dev_1%3a3.0.7-1build1_amd64.deb ...\n",
            "Unpacking libaudit-dev:amd64 (1:3.0.7-1build1) ...\n",
            "Setting up libcap-ng-dev (0.7.9-2.2build3) ...\n",
            "Setting up libext2fs-dev (1.46.5-2ubuntu1.1) ...\n",
            "Setting up libaudit-dev:amd64 (1:3.0.7-1build1) ...\n",
            "Processing triggers for man-db (2.10.2-1) ...\n"
          ]
        }
      ]
    },
    {
      "cell_type": "code",
      "source": [
        "!apt-get install poppler-utils --quiet"
      ],
      "metadata": {
        "colab": {
          "base_uri": "https://localhost:8080/"
        },
        "id": "uDtXgwQA2Ymh",
        "outputId": "9066c7ea-43b7-493f-c324-90d936e4b727"
      },
      "execution_count": 4,
      "outputs": [
        {
          "output_type": "stream",
          "name": "stdout",
          "text": [
            "Reading package lists...\n",
            "Building dependency tree...\n",
            "Reading state information...\n",
            "The following NEW packages will be installed:\n",
            "  poppler-utils\n",
            "0 upgraded, 1 newly installed, 0 to remove and 31 not upgraded.\n",
            "Need to get 186 kB of archives.\n",
            "After this operation, 696 kB of additional disk space will be used.\n",
            "Get:1 http://archive.ubuntu.com/ubuntu jammy-updates/main amd64 poppler-utils amd64 22.02.0-2ubuntu0.3 [186 kB]\n",
            "Fetched 186 kB in 1s (221 kB/s)\n",
            "Selecting previously unselected package poppler-utils.\n",
            "(Reading database ... 122804 files and directories currently installed.)\n",
            "Preparing to unpack .../poppler-utils_22.02.0-2ubuntu0.3_amd64.deb ...\n",
            "Unpacking poppler-utils (22.02.0-2ubuntu0.3) ...\n",
            "Setting up poppler-utils (22.02.0-2ubuntu0.3) ...\n",
            "Processing triggers for man-db (2.10.2-1) ...\n"
          ]
        }
      ]
    },
    {
      "cell_type": "code",
      "source": [
        "!pip install pdf2image --quiet"
      ],
      "metadata": {
        "id": "dmLpsdJG2Joy"
      },
      "execution_count": 5,
      "outputs": []
    },
    {
      "cell_type": "code",
      "source": [
        "import numpy as np\n",
        "import matplotlib.pyplot as plt\n",
        "import cv2\n",
        "from PIL import Image\n",
        "from pdf2image import convert_from_path\n",
        "from ultralytics import YOLO\n",
        "import torch\n",
        "import tensorflow as tf\n",
        "import json\n",
        "from paddleocr import PaddleOCR,draw_ocr\n",
        "import time"
      ],
      "metadata": {
        "id": "ZZsskTxi1LAM"
      },
      "execution_count": 20,
      "outputs": []
    },
    {
      "cell_type": "code",
      "source": [
        "def grayscale_image(image):\n",
        "    # Convert the image to grayscale\n",
        "    grayscale_image = image.convert('L')\n",
        "    return grayscale_image"
      ],
      "metadata": {
        "id": "IIffYo9t1LC2"
      },
      "execution_count": 8,
      "outputs": []
    },
    {
      "cell_type": "code",
      "source": [
        "def pdf_to_images(pdf_path):\n",
        "    grayscaled_pil_images = []\n",
        "    # Convert PDF to a list of PIL images\n",
        "    images = convert_from_path(pdf_path, dpi=500)#, poppler_path =r'/usr/bin' )\n",
        "    for img in images:\n",
        "        gray_image = grayscale_image(img)\n",
        "        grayscaled_pil_images.append(gray_image)\n",
        "    return grayscaled_pil_images"
      ],
      "metadata": {
        "id": "wHnhaTcd1LFy"
      },
      "execution_count": 26,
      "outputs": []
    },
    {
      "cell_type": "code",
      "source": [
        "def padding(x1,y1,x2,y2,padding=10):\n",
        "    x1_pad = x1 - padding\n",
        "    y1_pad = y1 - padding\n",
        "    x2_pad = x2 + padding\n",
        "    y2_pad = y2 + padding\n",
        "    return [int(x1_pad), int(y1_pad), int(x2_pad), int(y2_pad)]"
      ],
      "metadata": {
        "id": "4CDAp8ye1QHd"
      },
      "execution_count": 10,
      "outputs": []
    },
    {
      "cell_type": "code",
      "source": [
        "def image_localization(images):\n",
        "  model=YOLO('/content/best.pt')\n",
        "  cropped_images=[]\n",
        "  for image in images:\n",
        "    # plt.imshow(np.array(image))\n",
        "    pil_image_array = np.array(image)\n",
        "    image_cv = cv2.cvtColor(pil_image_array, cv2.COLOR_RGB2BGR)\n",
        "    # image_cv=cv2.imread(image)\n",
        "    results = model(image_cv)\n",
        "    for result in results:\n",
        "      boxes=result.boxes\n",
        "      for box in boxes:\n",
        "        x1,y1,x2,y2=box.xyxy[0].cpu().numpy()\n",
        "        x1_pad,y1_pad,x2_pad,y2_pad=padding(x1,y1,x2,y2)\n",
        "        cropped_image = image_cv[y1_pad:y2_pad, x1_pad:x2_pad]\n",
        "        crop_img = cv2.cvtColor(cropped_image, cv2.COLOR_BGR2RGB)\n",
        "        img_pil = Image.fromarray(crop_img)\n",
        "        cropped_images.append(img_pil)\n",
        "  return cropped_images"
      ],
      "metadata": {
        "id": "OsRQh3hB1QKJ"
      },
      "execution_count": 25,
      "outputs": []
    },
    {
      "cell_type": "code",
      "source": [
        "def intersection(box_1, box_2):\n",
        "  return [box_2[0], box_1[1],box_2[2], box_1[3]]"
      ],
      "metadata": {
        "id": "nE8HuPR21QMD"
      },
      "execution_count": 12,
      "outputs": []
    },
    {
      "cell_type": "code",
      "source": [
        "def iou(box_1, box_2):\n",
        "\n",
        "  x_1 = max(box_1[0], box_2[0])\n",
        "  y_1 = max(box_1[1], box_2[1])\n",
        "  x_2 = min(box_1[2], box_2[2])\n",
        "  y_2 = min(box_1[3], box_2[3])\n",
        "\n",
        "  inter = abs(max((x_2 - x_1, 0)) * max((y_2 - y_1), 0))\n",
        "  if inter == 0:\n",
        "      return 0\n",
        "\n",
        "  box_1_area = abs((box_1[2] - box_1[0]) * (box_1[3] - box_1[1]))\n",
        "  box_2_area = abs((box_2[2] - box_2[0]) * (box_2[3] - box_2[1]))\n",
        "\n",
        "  return inter / float(box_1_area + box_2_area - inter)"
      ],
      "metadata": {
        "id": "atw-yGxX1QOo"
      },
      "execution_count": 13,
      "outputs": []
    },
    {
      "cell_type": "code",
      "source": [
        "def image_to_text(images):\n",
        "  outputs=[]\n",
        "  ocr=PaddleOCR(lang='en')\n",
        "  for image in images:\n",
        "    pil_image_array = np.array(image)\n",
        "    # Convert RGB to BGR (OpenCV uses BGR by default)\n",
        "    image_cv = cv2.cvtColor(pil_image_array, cv2.COLOR_RGB2BGR)\n",
        "    output=ocr.ocr(image_cv)\n",
        "    boxes = [line[0] for line in output[0]]\n",
        "    texts = [line[1][0] for line in output[0]]\n",
        "    probabilities = [line[1][1] for line in output[0]]\n",
        "    image_height = image_cv.shape[0]\n",
        "    image_width = image_cv.shape[1]\n",
        "    image_boxes = image_cv.copy()\n",
        "    im = image_cv.copy()\n",
        "    horiz_boxes = []\n",
        "    vert_boxes = []\n",
        "\n",
        "    for box in boxes:\n",
        "      x_h, x_v = 0,int(box[0][0])\n",
        "      y_h, y_v = int(box[0][1]),0\n",
        "      width_h,width_v = image_width, int(box[2][0]-box[0][0])\n",
        "      height_h,height_v = int(box[2][1]-box[0][1]),image_height\n",
        "\n",
        "      horiz_boxes.append([x_h,y_h,x_h+width_h,y_h+height_h])\n",
        "      vert_boxes.append([x_v,y_v,x_v+width_v,y_v+height_v])\n",
        "\n",
        "      cv2.rectangle(im,(x_h,y_h), (x_h+width_h,y_h+height_h),(0,0,255),1)\n",
        "      cv2.rectangle(im,(x_v,y_v), (x_v+width_v,y_v+height_v),(0,255,0),1)\n",
        "    #Horizontal Lines\n",
        "    horiz_out = tf.image.non_max_suppression(\n",
        "    horiz_boxes,\n",
        "    probabilities,\n",
        "    max_output_size = 1000,\n",
        "    iou_threshold=0.1,\n",
        "    score_threshold=float('-inf'),\n",
        "    name=None\n",
        "    )\n",
        "    horiz_lines = np.sort(np.array(horiz_out))\n",
        "    #Vertical Lines\n",
        "    vert_out = tf.image.non_max_suppression(\n",
        "    vert_boxes,\n",
        "    probabilities,\n",
        "    max_output_size = 1000,\n",
        "    iou_threshold=0.1,\n",
        "    score_threshold=float('-inf'),\n",
        "    name=None\n",
        "    )\n",
        "    vert_lines = np.sort(np.array(vert_out))\n",
        "\n",
        "    out_array = [[\"\" for i in range(len(vert_lines))] for j in range(len(horiz_lines))]\n",
        "    unordered_boxes = []\n",
        "    for i in vert_lines:\n",
        "      unordered_boxes.append(vert_boxes[i][0])\n",
        "    ordered_boxes = np.argsort(unordered_boxes)\n",
        "    for i in range(len(horiz_lines)):\n",
        "      for j in range(len(vert_lines)):\n",
        "        resultant = intersection(horiz_boxes[horiz_lines[i]], vert_boxes[vert_lines[ordered_boxes[j]]] )\n",
        "        for b in range(len(boxes)):\n",
        "          the_box = [boxes[b][0][0],boxes[b][0][1],boxes[b][2][0],boxes[b][2][1]]\n",
        "          if(iou(resultant,the_box)>0.1):\n",
        "            out_array[i][j] = texts[b]\n",
        "    out_array=np.array(out_array)\n",
        "    outputs.append(out_array)\n",
        "  return np.array(outputs)"
      ],
      "metadata": {
        "id": "idoMZ_6s1YFK"
      },
      "execution_count": 24,
      "outputs": []
    },
    {
      "cell_type": "code",
      "source": [
        "def jsonify(outputs):\n",
        "    output_json = []\n",
        "\n",
        "    for output in outputs:\n",
        "        dict_list = []\n",
        "\n",
        "        for item in output:\n",
        "            jdict = {\n",
        "                str(i): item[i] for i in range(len(item))\n",
        "            }\n",
        "            dict_list.append(jdict)\n",
        "\n",
        "        output_json.append(dict_list)\n",
        "\n",
        "    return json.dumps(output_json, indent=4)"
      ],
      "metadata": {
        "id": "yDncXh9Q1YHj"
      },
      "execution_count": 15,
      "outputs": []
    },
    {
      "cell_type": "code",
      "source": [
        "def OCR(input,flag):\n",
        "  if(flag==1):    #If the input is pdf\n",
        "    images=pdf_to_images(input)\n",
        "  else:           #If the input is image\n",
        "    images=input\n",
        "  cropped_images=image_localization(images)\n",
        "  outputs=image_to_text(cropped_images)\n",
        "  json_file=jsonify(outputs)\n",
        "  return json_file"
      ],
      "metadata": {
        "id": "5giPaIzM1YJ7"
      },
      "execution_count": 23,
      "outputs": []
    },
    {
      "cell_type": "code",
      "source": [
        "%%time\n",
        "OCR('/content/pdf1.pdf',1)"
      ],
      "metadata": {
        "colab": {
          "base_uri": "https://localhost:8080/",
          "height": 1000
        },
        "id": "W9GppDxC1YMf",
        "outputId": "0f128e7e-08af-45cc-dc6e-e02edd5e9da3"
      },
      "execution_count": 27,
      "outputs": [
        {
          "output_type": "stream",
          "name": "stdout",
          "text": [
            "\n",
            "0: 640x448 2 tabless, 414.0ms\n",
            "Speed: 6.6ms preprocess, 414.0ms inference, 0.9ms postprocess per image at shape (1, 3, 640, 448)\n",
            "\n",
            "0: 640x448 (no detections), 375.5ms\n",
            "Speed: 5.5ms preprocess, 375.5ms inference, 0.6ms postprocess per image at shape (1, 3, 640, 448)\n",
            "\n",
            "0: 640x448 1 tables, 382.5ms\n",
            "Speed: 5.0ms preprocess, 382.5ms inference, 0.8ms postprocess per image at shape (1, 3, 640, 448)\n",
            "\n",
            "0: 640x448 1 tables, 372.1ms\n",
            "Speed: 5.5ms preprocess, 372.1ms inference, 0.8ms postprocess per image at shape (1, 3, 640, 448)\n",
            "\n",
            "0: 640x448 1 tables, 363.3ms\n",
            "Speed: 6.2ms preprocess, 363.3ms inference, 0.8ms postprocess per image at shape (1, 3, 640, 448)\n",
            "\n",
            "0: 640x448 1 tables, 485.5ms\n",
            "Speed: 5.7ms preprocess, 485.5ms inference, 1.1ms postprocess per image at shape (1, 3, 640, 448)\n",
            "\n",
            "0: 640x448 (no detections), 588.6ms\n",
            "Speed: 4.7ms preprocess, 588.6ms inference, 0.7ms postprocess per image at shape (1, 3, 640, 448)\n",
            "\n",
            "0: 640x448 1 tables, 562.4ms\n",
            "Speed: 5.2ms preprocess, 562.4ms inference, 1.4ms postprocess per image at shape (1, 3, 640, 448)\n",
            "\n",
            "0: 640x448 1 tables, 562.3ms\n",
            "Speed: 4.8ms preprocess, 562.3ms inference, 0.9ms postprocess per image at shape (1, 3, 640, 448)\n",
            "\n",
            "0: 640x448 1 tables, 367.3ms\n",
            "Speed: 5.4ms preprocess, 367.3ms inference, 0.9ms postprocess per image at shape (1, 3, 640, 448)\n",
            "\n",
            "0: 640x448 1 tables, 378.0ms\n",
            "Speed: 4.8ms preprocess, 378.0ms inference, 0.9ms postprocess per image at shape (1, 3, 640, 448)\n",
            "[2024/01/31 23:42:13] ppocr DEBUG: Namespace(help='==SUPPRESS==', use_gpu=False, use_xpu=False, use_npu=False, ir_optim=True, use_tensorrt=False, min_subgraph_size=15, precision='fp32', gpu_mem=500, gpu_id=0, image_dir=None, page_num=0, det_algorithm='DB', det_model_dir='/root/.paddleocr/whl/det/en/en_PP-OCRv3_det_infer', det_limit_side_len=960, det_limit_type='max', det_box_type='quad', det_db_thresh=0.3, det_db_box_thresh=0.6, det_db_unclip_ratio=1.5, max_batch_size=10, use_dilation=False, det_db_score_mode='fast', det_east_score_thresh=0.8, det_east_cover_thresh=0.1, det_east_nms_thresh=0.2, det_sast_score_thresh=0.5, det_sast_nms_thresh=0.2, det_pse_thresh=0, det_pse_box_thresh=0.85, det_pse_min_area=16, det_pse_scale=1, scales=[8, 16, 32], alpha=1.0, beta=1.0, fourier_degree=5, rec_algorithm='SVTR_LCNet', rec_model_dir='/root/.paddleocr/whl/rec/en/en_PP-OCRv4_rec_infer', rec_image_inverse=True, rec_image_shape='3, 48, 320', rec_batch_num=6, max_text_length=25, rec_char_dict_path='/usr/local/lib/python3.10/dist-packages/paddleocr/ppocr/utils/en_dict.txt', use_space_char=True, vis_font_path='./doc/fonts/simfang.ttf', drop_score=0.5, e2e_algorithm='PGNet', e2e_model_dir=None, e2e_limit_side_len=768, e2e_limit_type='max', e2e_pgnet_score_thresh=0.5, e2e_char_dict_path='./ppocr/utils/ic15_dict.txt', e2e_pgnet_valid_set='totaltext', e2e_pgnet_mode='fast', use_angle_cls=False, cls_model_dir='/root/.paddleocr/whl/cls/ch_ppocr_mobile_v2.0_cls_infer', cls_image_shape='3, 48, 192', label_list=['0', '180'], cls_batch_num=6, cls_thresh=0.9, enable_mkldnn=False, cpu_threads=10, use_pdserving=False, warmup=False, sr_model_dir=None, sr_image_shape='3, 32, 128', sr_batch_num=1, draw_img_save_dir='./inference_results', save_crop_res=False, crop_res_save_dir='./output', use_mp=False, total_process_num=1, process_id=0, benchmark=False, save_log_path='./log_output/', show_log=True, use_onnx=False, output='./output', table_max_len=488, table_algorithm='TableAttn', table_model_dir=None, merge_no_span_structure=True, table_char_dict_path=None, layout_model_dir=None, layout_dict_path=None, layout_score_threshold=0.5, layout_nms_threshold=0.5, kie_algorithm='LayoutXLM', ser_model_dir=None, re_model_dir=None, use_visual_backbone=True, ser_dict_path='../train_data/XFUND/class_list_xfun.txt', ocr_order_method=None, mode='structure', image_orientation=False, layout=True, table=True, ocr=True, recovery=False, use_pdf2docx_api=False, invert=False, binarize=False, alphacolor=(255, 255, 255), lang='en', det=True, rec=True, type='ocr', ocr_version='PP-OCRv4', structure_version='PP-StructureV2')\n",
            "[2024/01/31 23:42:14] ppocr WARNING: Since the angle classifier is not initialized, it will not be used during the forward process\n",
            "[2024/01/31 23:42:14] ppocr DEBUG: dt_boxes num : 80, elapsed : 0.38959598541259766\n",
            "[2024/01/31 23:42:18] ppocr DEBUG: rec_res num  : 80, elapsed : 3.599513053894043\n",
            "[2024/01/31 23:42:18] ppocr WARNING: Since the angle classifier is not initialized, it will not be used during the forward process\n",
            "[2024/01/31 23:42:18] ppocr DEBUG: dt_boxes num : 4, elapsed : 0.05462455749511719\n",
            "[2024/01/31 23:42:18] ppocr DEBUG: rec_res num  : 4, elapsed : 0.26059818267822266\n",
            "[2024/01/31 23:42:18] ppocr WARNING: Since the angle classifier is not initialized, it will not be used during the forward process\n",
            "[2024/01/31 23:42:19] ppocr DEBUG: dt_boxes num : 93, elapsed : 0.43901491165161133\n",
            "[2024/01/31 23:42:23] ppocr DEBUG: rec_res num  : 93, elapsed : 4.283198356628418\n",
            "[2024/01/31 23:42:23] ppocr WARNING: Since the angle classifier is not initialized, it will not be used during the forward process\n",
            "[2024/01/31 23:42:23] ppocr DEBUG: dt_boxes num : 13, elapsed : 0.28786468505859375\n",
            "[2024/01/31 23:42:25] ppocr DEBUG: rec_res num  : 13, elapsed : 1.1910741329193115\n",
            "[2024/01/31 23:42:25] ppocr WARNING: Since the angle classifier is not initialized, it will not be used during the forward process\n",
            "[2024/01/31 23:42:25] ppocr DEBUG: dt_boxes num : 24, elapsed : 0.23422861099243164\n",
            "[2024/01/31 23:42:26] ppocr DEBUG: rec_res num  : 24, elapsed : 1.362657070159912\n",
            "[2024/01/31 23:42:26] ppocr WARNING: Since the angle classifier is not initialized, it will not be used during the forward process\n",
            "[2024/01/31 23:42:27] ppocr DEBUG: dt_boxes num : 35, elapsed : 0.31122899055480957\n",
            "[2024/01/31 23:42:28] ppocr DEBUG: rec_res num  : 35, elapsed : 1.7972831726074219\n",
            "[2024/01/31 23:42:28] ppocr WARNING: Since the angle classifier is not initialized, it will not be used during the forward process\n",
            "[2024/01/31 23:42:29] ppocr DEBUG: dt_boxes num : 58, elapsed : 0.3761279582977295\n",
            "[2024/01/31 23:42:32] ppocr DEBUG: rec_res num  : 58, elapsed : 2.7833759784698486\n",
            "[2024/01/31 23:42:32] ppocr WARNING: Since the angle classifier is not initialized, it will not be used during the forward process\n",
            "[2024/01/31 23:42:32] ppocr DEBUG: dt_boxes num : 7, elapsed : 0.15406441688537598\n",
            "[2024/01/31 23:42:33] ppocr DEBUG: rec_res num  : 7, elapsed : 0.7265224456787109\n",
            "[2024/01/31 23:42:33] ppocr WARNING: Since the angle classifier is not initialized, it will not be used during the forward process\n",
            "[2024/01/31 23:42:33] ppocr DEBUG: dt_boxes num : 7, elapsed : 0.04728293418884277\n",
            "[2024/01/31 23:42:33] ppocr DEBUG: rec_res num  : 7, elapsed : 0.7633881568908691\n",
            "[2024/01/31 23:42:33] ppocr WARNING: Since the angle classifier is not initialized, it will not be used during the forward process\n",
            "[2024/01/31 23:42:34] ppocr DEBUG: dt_boxes num : 5, elapsed : 0.12205719947814941\n",
            "[2024/01/31 23:42:34] ppocr DEBUG: rec_res num  : 5, elapsed : 0.3095672130584717\n",
            "CPU times: user 28.5 s, sys: 2.23 s, total: 30.8 s\n",
            "Wall time: 41.6 s\n"
          ]
        },
        {
          "output_type": "execute_result",
          "data": {
            "text/plain": [
              "'[\\n    [\\n        {\\n            \"0\": \"Hemoglobin\",\\n            \"1\": \"12.50\",\\n            \"2\": \"g/dL\",\\n            \"3\": \"12.00 - 15.00\"\\n        },\\n        {\\n            \"0\": \"Packed Cell Volume (PCV)\",\\n            \"1\": \"37.30\",\\n            \"2\": \"%\",\\n            \"3\": \"36.00 - 46.00\"\\n        },\\n        {\\n            \"0\": \"RBC Count\",\\n            \"1\": \"4.20\",\\n            \"2\": \"mill/mm3\",\\n            \"3\": \"3.80 - 4.80\"\\n        },\\n        {\\n            \"0\": \"MCV\",\\n            \"1\": \"88.80\",\\n            \"2\": \"fL\",\\n            \"3\": \"83.00 - 101.00\"\\n        },\\n        {\\n            \"0\": \"MCH\",\\n            \"1\": \"29.80\",\\n            \"2\": \"pg\",\\n            \"3\": \"27.00 - 32.00\"\\n        },\\n        {\\n            \"0\": \"MCHC\",\\n            \"1\": \"33.50\",\\n            \"2\": \"g/dL\",\\n            \"3\": \"31.50 - 34.50\"\\n        },\\n        {\\n            \"0\": \"Red Cell Distribution Width (RDW)\",\\n            \"1\": \"14.50\",\\n            \"2\": \"%\",\\n            \"3\": \"11.60 - 14.00\"\\n        },\\n        {\\n            \"0\": \"Total Leukocyte Count (TLC)\",\\n            \"1\": \"3.81\",\\n            \"2\": \"thou/mm3\",\\n            \"3\": \"4.00 - 10.00\"\\n        },\\n        {\\n            \"0\": \"Differential Leucocyte Count (DLC)\",\\n            \"1\": \"\",\\n            \"2\": \"\",\\n            \"3\": \"\"\\n        },\\n        {\\n            \"0\": \"Segmented Neutrophils.\",\\n            \"1\": \"40.30\",\\n            \"2\": \"%\",\\n            \"3\": \"40.00 - 80.00\"\\n        },\\n        {\\n            \"0\": \"Lymphocytes\",\\n            \"1\": \"47.20\",\\n            \"2\": \"%\",\\n            \"3\": \"20.00 - 40.00\"\\n        },\\n        {\\n            \"0\": \"Monocytes\",\\n            \"1\": \"6.00\",\\n            \"2\": \"%\",\\n            \"3\": \"2.00 - 10.00\"\\n        },\\n        {\\n            \"0\": \"Eosinophils\",\\n            \"1\": \"5.20\",\\n            \"2\": \"%\",\\n            \"3\": \"1.00 - 6.00\"\\n        },\\n        {\\n            \"0\": \"Basophils\",\\n            \"1\": \"1.30\",\\n            \"2\": \"%\",\\n            \"3\": \"<2.00\"\\n        },\\n        {\\n            \"0\": \"Absolute Leucocyte Count\",\\n            \"1\": \"\",\\n            \"2\": \"\",\\n            \"3\": \"\"\\n        },\\n        {\\n            \"0\": \"Neutrophils\",\\n            \"1\": \"1.54\",\\n            \"2\": \"thou/mm3\",\\n            \"3\": \"2.00 - 7.00\"\\n        },\\n        {\\n            \"0\": \"Lymphocytes\",\\n            \"1\": \"1.80\",\\n            \"2\": \"thou/mm3\",\\n            \"3\": \"1.00 - 3.00\"\\n        },\\n        {\\n            \"0\": \"Monocytes\",\\n            \"1\": \"0.23\",\\n            \"2\": \"thou/mm3\",\\n            \"3\": \"0.20 - 1.00\"\\n        },\\n        {\\n            \"0\": \"Eosinophils\",\\n            \"1\": \"0.20\",\\n            \"2\": \"thou/mm3\",\\n            \"3\": \"0.02 - 0.50\"\\n        },\\n        {\\n            \"0\": \"Basophils\",\\n            \"1\": \"0.05\",\\n            \"2\": \"thou/mm3\",\\n            \"3\": \"0.02 - 0.10\"\\n        },\\n        {\\n            \"0\": \"Platelet Count\",\\n            \"1\": \"285\",\\n            \"2\": \"thou/mm3\",\\n            \"3\": \"150.00 - 410.00\"\\n        },\\n        {\\n            \"0\": \"\",\\n            \"1\": \"0 8\",\\n            \"2\": \"\",\\n            \"3\": \"\"\\n        }\\n    ],\\n    [\\n        {\\n            \"0\": \"Test Name\",\\n            \"1\": \"Results\",\\n            \"2\": \"Units\",\\n            \"3\": \"Bio. Ref. Interval\"\\n        }\\n    ],\\n    [\\n        {\\n            \"0\": \"Test Name\",\\n            \"1\": \"Results\",\\n            \"2\": \"Units\",\\n            \"3\": \"Bio. Ref. Interval.\"\\n        },\\n        {\\n            \"0\": \"LIVER & KIDNEY PANEL. SERUM\",\\n            \"1\": \"\",\\n            \"2\": \"\",\\n            \"3\": \"\"\\n        },\\n        {\\n            \"0\": \"Bilirubin Total\",\\n            \"1\": \"0.35\",\\n            \"2\": \"mg/dL\",\\n            \"3\": \"0.30 - 1.20\"\\n        },\\n        {\\n            \"0\": \"(DPD)\",\\n            \"1\": \"\",\\n            \"2\": \"\",\\n            \"3\": \"\"\\n        },\\n        {\\n            \"0\": \"Bilirubin Directa\",\\n            \"1\": \"0.07\",\\n            \"2\": \"mg/dL\",\\n            \"3\": \"<0.30\"\\n        },\\n        {\\n            \"0\": \"(DPD)\",\\n            \"1\": \"\",\\n            \"2\": \"\",\\n            \"3\": \"\"\\n        },\\n        {\\n            \"0\": \"Bilirubin Indirect\",\\n            \"1\": \"0.28\",\\n            \"2\": \"mg/dL\",\\n            \"3\": \"<1.10\"\\n        },\\n        {\\n            \"0\": \"(Calculated)\",\\n            \"1\": \"\",\\n            \"2\": \"\",\\n            \"3\": \"\"\\n        },\\n        {\\n            \"0\": \"AST (SGOT)\",\\n            \"1\": \"36.0\",\\n            \"2\": \"U/L\",\\n            \"3\": \"<35\"\\n        },\\n        {\\n            \"0\": \"(IFCC without P5P)\",\\n            \"1\": \"\",\\n            \"2\": \"\",\\n            \"3\": \"\"\\n        },\\n        {\\n            \"0\": \"ALT (SGPT)\",\\n            \"1\": \"15.0\",\\n            \"2\": \"U/L\",\\n            \"3\": \"<35\"\\n        },\\n        {\\n            \"0\": \"(IFCC without P5P)\",\\n            \"1\": \"\",\\n            \"2\": \"\",\\n            \"3\": \"\"\\n        },\\n        {\\n            \"0\": \"GGTP\",\\n            \"1\": \"47.0\",\\n            \"2\": \"U/L\",\\n            \"3\": \"<38\"\\n        },\\n        {\\n            \"0\": \"(GCNA)\",\\n            \"1\": \"\",\\n            \"2\": \"\",\\n            \"3\": \"\"\\n        },\\n        {\\n            \"0\": \"Alkaline Phosphatase (ALP)\",\\n            \"1\": \"74.00\",\\n            \"2\": \"U/L\",\\n            \"3\": \"30 - 120\"\\n        },\\n        {\\n            \"0\": \"(PNPP)\",\\n            \"1\": \"\",\\n            \"2\": \"\",\\n            \"3\": \"\"\\n        },\\n        {\\n            \"0\": \"Total Protein\",\\n            \"1\": \"6.27\",\\n            \"2\": \"g/dL\",\\n            \"3\": \"6.40 - 8.30\"\\n        },\\n        {\\n            \"0\": \"(Biuret)\",\\n            \"1\": \"\",\\n            \"2\": \"\",\\n            \"3\": \"\"\\n        },\\n        {\\n            \"0\": \"Albumin\",\\n            \"1\": \"3.38\",\\n            \"2\": \"g/dL\",\\n            \"3\": \"3.50 - 5.20\"\\n        },\\n        {\\n            \"0\": \"(BCG)\",\\n            \"1\": \"\",\\n            \"2\": \"\",\\n            \"3\": \"\"\\n        },\\n        {\\n            \"0\": \"A : G Ratio\",\\n            \"1\": \"1.17\",\\n            \"2\": \"\",\\n            \"3\": \"0.90 - 2.00\"\\n        },\\n        {\\n            \"0\": \"(Calculated)\",\\n            \"1\": \"\",\\n            \"2\": \"\",\\n            \"3\": \"\"\\n        },\\n        {\\n            \"0\": \"Urea\",\\n            \"1\": \"19.10\",\\n            \"2\": \"mg/dL\",\\n            \"3\": \"17.00 - 43.00\"\\n        },\\n        {\\n            \"0\": \"(Urease UV)\",\\n            \"1\": \"\",\\n            \"2\": \"\",\\n            \"3\": \"\"\\n        },\\n        {\\n            \"0\": \"Creatinine\",\\n            \"1\": \"0.74\",\\n            \"2\": \"mg/dL\",\\n            \"3\": \"0.51 - 0.95\"\\n        },\\n        {\\n            \"0\": \"(Modified Jaffe)\",\\n            \"1\": \"\",\\n            \"2\": \"\",\\n            \"3\": \"\"\\n        },\\n        {\\n            \"0\": \"Uric Acid\",\\n            \"1\": \"5.91\",\\n            \"2\": \"mg/dL\",\\n            \"3\": \"2.60 - 6.00\"\\n        },\\n        {\\n            \"0\": \"(Uricase)\",\\n            \"1\": \"\",\\n            \"2\": \"\",\\n            \"3\": \"\"\\n        },\\n        {\\n            \"0\": \"Calcium, Total\",\\n            \"1\": \"8.80\",\\n            \"2\": \"mg/dL\",\\n            \"3\": \"8.80 - 10.60\"\\n        },\\n        {\\n            \"0\": \"(Arsenazo III)\",\\n            \"1\": \"\",\\n            \"2\": \"\",\\n            \"3\": \"\"\\n        },\\n        {\\n            \"0\": \"Phosphorus\",\\n            \"1\": \"3.96\",\\n            \"2\": \"mg/dL\",\\n            \"3\": \"2.40 - 4.40\"\\n        },\\n        {\\n            \"0\": \"(Molybdate UV)\",\\n            \"1\": \"\",\\n            \"2\": \"\",\\n            \"3\": \"\"\\n        },\\n        {\\n            \"0\": \"Sodium\",\\n            \"1\": \"144.30\",\\n            \"2\": \"mEq/L\",\\n            \"3\": \"136.00 - 146.00\"\\n        },\\n        {\\n            \"0\": \"(Indirect ISE)\",\\n            \"1\": \"\",\\n            \"2\": \"\",\\n            \"3\": \"\"\\n        },\\n        {\\n            \"0\": \"Potassium\",\\n            \"1\": \"4.88\",\\n            \"2\": \"mEq/L\",\\n            \"3\": \"3.50 - 5.10\"\\n        },\\n        {\\n            \"0\": \"(Indirect ISE)\",\\n            \"1\": \"\",\\n            \"2\": \"\",\\n            \"3\": \"\"\\n        },\\n        {\\n            \"0\": \"Chloride\",\\n            \"1\": \"113.10\",\\n            \"2\": \"mEq/L\",\\n            \"3\": \"101.00 - 109.00\"\\n        }\\n    ],\\n    [\\n        {\\n            \"0\": \"Test Name\",\\n            \"1\": \"Results\",\\n            \"2\": \"Units\",\\n            \"3\": \"Bio. Ref. Interval.\"\\n        },\\n        {\\n            \"0\": \"HbA1c (GLYCOSYLATED HEMOGLOBIN), BLOOD\",\\n            \"1\": \"\",\\n            \"2\": \"\",\\n            \"3\": \"\"\\n        },\\n        {\\n            \"0\": \"(HPLC)\",\\n            \"1\": \"\",\\n            \"2\": \"\",\\n            \"3\": \"\"\\n        },\\n        {\\n            \"0\": \"HbA1c\",\\n            \"1\": \"5.0\",\\n            \"2\": \"%\",\\n            \"3\": \"4.00 - 5.60\"\\n        },\\n        {\\n            \"0\": \"Estimated average glucose (eAG)\",\\n            \"1\": \"97\",\\n            \"2\": \"mg/dL\",\\n            \"3\": \"\"\\n        }\\n    ],\\n    [\\n        {\\n            \"0\": \"Test Name\",\\n            \"1\": \"Results\",\\n            \"2\": \"Units\",\\n            \"3\": \"Bio. Ref. Interval.\"\\n        },\\n        {\\n            \"0\": \"GLUCOSE, FASTING (F), PLASMA\",\\n            \"1\": \"\",\\n            \"2\": \"\",\\n            \"3\": \"\"\\n        },\\n        {\\n            \"0\": \"(Hexokinase)\",\\n            \"1\": \"\",\\n            \"2\": \"\",\\n            \"3\": \"\"\\n        },\\n        {\\n            \"0\": \"Glucose Fasting\",\\n            \"1\": \"75.00\",\\n            \"2\": \"mg/dL\",\\n            \"3\": \"70.00 - 100.00\"\\n        },\\n        {\\n            \"0\": \"THYROID PROFILE,TOTAL, SERUM\",\\n            \"1\": \"\",\\n            \"2\": \"\",\\n            \"3\": \"\"\\n        },\\n        {\\n            \"0\": \"(ECLIA)\",\\n            \"1\": \"\",\\n            \"2\": \"\",\\n            \"3\": \"\"\\n        },\\n        {\\n            \"0\": \"T3, Total\",\\n            \"1\": \"0.73\",\\n            \"2\": \"ng/mL\",\\n            \"3\": \"0.80 - 2.00\"\\n        },\\n        {\\n            \"0\": \"T4, Total\",\\n            \"1\": \"5.35\",\\n            \"2\": \"ug/dL\",\\n            \"3\": \"5.10 - 14.10\"\\n        },\\n        {\\n            \"0\": \"TSH\",\\n            \"1\": \"1.72\",\\n            \"2\": \"IU/mL\",\\n            \"3\": \"0.27 - 4.20\"\\n        }\\n    ],\\n    [\\n        {\\n            \"0\": \"Test Name\",\\n            \"1\": \"Results\",\\n            \"2\": \"Units\",\\n            \"3\": \"Bio. Ref. Interval\"\\n        },\\n        {\\n            \"0\": \"LIPID SCREEN, SERUM\",\\n            \"1\": \"\",\\n            \"2\": \"\",\\n            \"3\": \"\"\\n        },\\n        {\\n            \"0\": \"Cholesterol, Total.\",\\n            \"1\": \"165.00\",\\n            \"2\": \"mg/dL\",\\n            \"3\": \"<200.00\"\\n        },\\n        {\\n            \"0\": \"(CHO-POD)\",\\n            \"1\": \"\",\\n            \"2\": \"\",\\n            \"3\": \"\"\\n        },\\n        {\\n            \"0\": \"Triglycerides\",\\n            \"1\": \"126.00\",\\n            \"2\": \"mg/dL\",\\n            \"3\": \"<150.00\"\\n        },\\n        {\\n            \"0\": \"(GPO-POD)\",\\n            \"1\": \"\",\\n            \"2\": \"\",\\n            \"3\": \"\"\\n        },\\n        {\\n            \"0\": \"HDL Cholesterol\",\\n            \"1\": \"72.30\",\\n            \"2\": \"mg/dL\",\\n            \"3\": \">50.00\"\\n        },\\n        {\\n            \"0\": \"(Direct Enzymatic)\",\\n            \"1\": \"\",\\n            \"2\": \"\",\\n            \"3\": \"\"\\n        },\\n        {\\n            \"0\": \"LDL Cholesterol, Calculated\",\\n            \"1\": \"67.50\",\\n            \"2\": \"mg/dL\",\\n            \"3\": \"<100.00\"\\n        },\\n        {\\n            \"0\": \"(Calculated)\",\\n            \"1\": \"\",\\n            \"2\": \"\",\\n            \"3\": \"\"\\n        },\\n        {\\n            \"0\": \"VLDL Cholesterol,Calculated\",\\n            \"1\": \"25.20\",\\n            \"2\": \"mg/dL\",\\n            \"3\": \"<30.00\"\\n        },\\n        {\\n            \"0\": \"(Calculated)\",\\n            \"1\": \"\",\\n            \"2\": \"\",\\n            \"3\": \"\"\\n        },\\n        {\\n            \"0\": \"Non-HDL Cholesterol\",\\n            \"1\": \"93\",\\n            \"2\": \"mg/dL\",\\n            \"3\": \"<130\"\\n        },\\n        {\\n            \"0\": \"(Calculated)\",\\n            \"1\": \"\",\\n            \"2\": \"\",\\n            \"3\": \"\"\\n        }\\n    ],\\n    [\\n        {\\n            \"0\": \"Test Name\",\\n            \"1\": \"Results\",\\n            \"2\": \"Units\",\\n            \"3\": \"Bio. Ref. Interval\"\\n        },\\n        {\\n            \"0\": \"URINE EXAMINATION, ROUTINE; URINE, R/E\",\\n            \"1\": \"\",\\n            \"2\": \"\",\\n            \"3\": \"\"\\n        },\\n        {\\n            \"0\": \"(Dipstick, Microscopy)\",\\n            \"1\": \"\",\\n            \"2\": \"\",\\n            \"3\": \"\"\\n        },\\n        {\\n            \"0\": \"Physical\",\\n            \"1\": \"\",\\n            \"2\": \"\",\\n            \"3\": \"\"\\n        },\\n        {\\n            \"0\": \"Colour\",\\n            \"1\": \"Light Yellow\",\\n            \"2\": \"\",\\n            \"3\": \"Pale yellow\"\\n        },\\n        {\\n            \"0\": \"Specific Gravity\",\\n            \"1\": \"1.015\",\\n            \"2\": \"\",\\n            \"3\": \"1.001 - 1.030\"\\n        },\\n        {\\n            \"0\": \"pH\",\\n            \"1\": \"5.5\",\\n            \"2\": \"\",\\n            \"3\": \"5.0 - 8.0\"\\n        },\\n        {\\n            \"0\": \"Chemical\",\\n            \"1\": \"\",\\n            \"2\": \"\",\\n            \"3\": \"\"\\n        },\\n        {\\n            \"0\": \"Proteins\",\\n            \"1\": \"Negative\",\\n            \"2\": \"\",\\n            \"3\": \"Negative\"\\n        },\\n        {\\n            \"0\": \"Glucose\",\\n            \"1\": \"Negative\",\\n            \"2\": \"\",\\n            \"3\": \"Negative\"\\n        },\\n        {\\n            \"0\": \"Ketones\",\\n            \"1\": \"Negative\",\\n            \"2\": \"\",\\n            \"3\": \"Negative\"\\n        },\\n        {\\n            \"0\": \"Bilirubin\",\\n            \"1\": \"Negative\",\\n            \"2\": \"\",\\n            \"3\": \"Negative\"\\n        },\\n        {\\n            \"0\": \"Urobilinogen\",\\n            \"1\": \"Negative\",\\n            \"2\": \"\",\\n            \"3\": \"Negative\"\\n        },\\n        {\\n            \"0\": \"Leucocyte Esterase\",\\n            \"1\": \"Negative\",\\n            \"2\": \"\",\\n            \"3\": \"Negative\"\\n        },\\n        {\\n            \"0\": \"Nitrite\",\\n            \"1\": \"Negative\",\\n            \"2\": \"\",\\n            \"3\": \"Negative\"\\n        },\\n        {\\n            \"0\": \"Microscopy\",\\n            \"1\": \"\",\\n            \"2\": \"\",\\n            \"3\": \"\"\\n        },\\n        {\\n            \"0\": \"R.B.C.\",\\n            \"1\": \"Negative\",\\n            \"2\": \"\",\\n            \"3\": \"0.0 - 2.0 RBC/hpf\"\\n        },\\n        {\\n            \"0\": \"Pus Cells\",\\n            \"1\": \"0-1 WBC/HPF\",\\n            \"2\": \"\",\\n            \"3\": \"0-5 WBC / hpf\"\\n        },\\n        {\\n            \"0\": \"Epithelial Cells\",\\n            \"1\": \"0-1 Epi Cells/hpf\",\\n            \"2\": \"\",\\n            \"3\": \"0.0 - 5.0 Epi\"\\n        },\\n        {\\n            \"0\": \"\",\\n            \"1\": \"\",\\n            \"2\": \"\",\\n            \"3\": \"cells/hpf\"\\n        },\\n        {\\n            \"0\": \"Casts\",\\n            \"1\": \"None seen\",\\n            \"2\": \"\",\\n            \"3\": \"None seen/Lpf\"\\n        },\\n        {\\n            \"0\": \"Crystals\",\\n            \"1\": \"None seen\",\\n            \"2\": \"\",\\n            \"3\": \"None seen\"\\n        },\\n        {\\n            \"0\": \"Others\",\\n            \"1\": \"None seen\",\\n            \"2\": \"\",\\n            \"3\": \"None seen\"\\n        }\\n    ],\\n    [\\n        {\\n            \"0\": \"Test Name\",\\n            \"1\": \"Results\",\\n            \"2\": \"Units\",\\n            \"3\": \"Bio. Ref. Interval\"\\n        },\\n        {\\n            \"0\": \"HEPATITIS B SURFACE ANTIGEN (HBsAg), RAPID\",\\n            \"1\": \"Non-Reactive\",\\n            \"2\": \"\",\\n            \"3\": \"\"\\n        },\\n        {\\n            \"0\": \"SCREENING TEST, SERUM\",\\n            \"1\": \"\",\\n            \"2\": \"\",\\n            \"3\": \"\"\\n        }\\n    ],\\n    [\\n        {\\n            \"0\": \"Test Name\",\\n            \"1\": \"Results\",\\n            \"2\": \"Units\",\\n            \"3\": \"Bio. Ref. Interval.\"\\n        },\\n        {\\n            \"0\": \"HIV 1 & 2 ANTIBODIES SCREENING TEST, SERUM\",\\n            \"1\": \"Negative\",\\n            \"2\": \"\",\\n            \"3\": \"\"\\n        },\\n        {\\n            \"0\": \"(Immunochromatography)\",\\n            \"1\": \"\",\\n            \"2\": \"\",\\n            \"3\": \"\"\\n        }\\n    ],\\n    [\\n        {\\n            \"0\": \"Test Name\",\\n            \"1\": \"Results\",\\n            \"2\": \"Units\",\\n            \"3\": \"Bio. Ref. Interval\"\\n        },\\n        {\\n            \"0\": \"\",\\n            \"1\": \"IMPORTAnT InSTRUCTIONS\",\\n            \"2\": \"\",\\n            \"3\": \"\"\\n        }\\n    ]\\n]'"
            ],
            "application/vnd.google.colaboratory.intrinsic+json": {
              "type": "string"
            }
          },
          "metadata": {},
          "execution_count": 27
        }
      ]
    },
    {
      "cell_type": "code",
      "source": [],
      "metadata": {
        "id": "SggIAaTE1QRx"
      },
      "execution_count": null,
      "outputs": []
    }
  ]
}